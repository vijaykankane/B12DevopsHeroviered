{
  "nbformat": 4,
  "nbformat_minor": 0,
  "metadata": {
    "colab": {
      "provenance": [],
      "authorship_tag": "ABX9TyMZ5xwZeBSvIfGnslwwk+kK",
      "include_colab_link": true
    },
    "kernelspec": {
      "name": "python3",
      "display_name": "Python 3"
    },
    "language_info": {
      "name": "python"
    }
  },
  "cells": [
    {
      "cell_type": "markdown",
      "metadata": {
        "id": "view-in-github",
        "colab_type": "text"
      },
      "source": [
        "<a href=\"https://colab.research.google.com/github/vijaykankane/B12DevopsHeroviered/blob/main/03_Missing_Values_and_Outliers.ipynb\" target=\"_parent\"><img src=\"https://colab.research.google.com/assets/colab-badge.svg\" alt=\"Open In Colab\"/></a>"
      ]
    },
    {
      "cell_type": "code",
      "execution_count": null,
      "metadata": {
        "colab": {
          "base_uri": "https://localhost:8080/"
        },
        "id": "YH9Mmr9_hji7",
        "outputId": "5cec903d-39db-4d7d-f2f7-523faecd064d"
      },
      "outputs": [
        {
          "output_type": "stream",
          "name": "stdout",
          "text": [
            "🔍 Missing Values Count:\n",
            "ID                                               0\n",
            "Date House was Sold                              0\n",
            "Sale Price                                       4\n",
            "No of Bedrooms                                   0\n",
            "No of Bathrooms                                  4\n",
            "Flat Area (in Sqft)                              9\n",
            "Lot Area (in Sqft)                               9\n",
            "No of Floors                                     0\n",
            "Waterfront View                                  0\n",
            "No of Times Visited                          19489\n",
            "Condition of the House                           0\n",
            "Overall Grade                                    0\n",
            "Area of the House from Basement (in Sqft)        3\n",
            "Basement Area (in Sqft)                          0\n",
            "Age of House (in Years)                          0\n",
            "Renovated Year                                   0\n",
            "Zipcode                                          1\n",
            "Latitude                                         1\n",
            "Longitude                                        1\n",
            "Living Area after Renovation (in Sqft)           1\n",
            "Lot Area after Renovation (in Sqft)              0\n",
            "dtype: int64\n",
            "\n",
            "🚨 Outliers Detected (Z-score > 3):\n",
            "{'ID': np.int64(0), 'Sale Price': np.int64(406), 'No of Bedrooms': np.int64(75), 'No of Bathrooms': np.int64(186), 'Flat Area (in Sqft)': np.int64(247), 'Lot Area (in Sqft)': np.int64(345), 'No of Floors': np.int64(8), 'Overall Grade': np.int64(46), 'Area of the House from Basement (in Sqft)': np.int64(254), 'Basement Area (in Sqft)': np.int64(246), 'Age of House (in Years)': np.int64(0), 'Renovated Year': np.int64(911), 'Zipcode': np.int64(0), 'Latitude': np.int64(0), 'Longitude': np.int64(233), 'Living Area after Renovation (in Sqft)': np.int64(237), 'Lot Area after Renovation (in Sqft)': np.int64(363)}\n"
          ]
        }
      ],
      "source": [
        "# 🧱 Step 3: Missing Values and Outlier Detection\n",
        "\n",
        "import pandas as pd\n",
        "import numpy as np\n",
        "from scipy import stats\n",
        "\n",
        "# Load CSV\n",
        "url = \"https://raw.githubusercontent.com/vijaykankane/GenAIProject/main/HousingPrices_New.csv\"\n",
        "df = pd.read_csv(url)\n",
        "\n",
        "# Missing Values\n",
        "print(\"🔍 Missing Values Count:\")\n",
        "print(df.isnull().sum())\n",
        "\n",
        "# Detect Outliers using Z-Score\n",
        "numeric_cols = df.select_dtypes(include='number')\n",
        "z_scores = np.abs(stats.zscore(numeric_cols.dropna()))\n",
        "outliers = (z_scores > 3).sum(axis=0)\n",
        "\n",
        "print(\"\\n🚨 Outliers Detected (Z-score > 3):\")\n",
        "print(dict(zip(numeric_cols.columns, outliers)))\n"
      ]
    }
  ]
}