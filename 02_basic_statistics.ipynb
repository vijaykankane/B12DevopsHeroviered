{
  "nbformat": 4,
  "nbformat_minor": 0,
  "metadata": {
    "colab": {
      "provenance": [],
      "authorship_tag": "ABX9TyO5Jk36vUinVQATBxvuJUVm",
      "include_colab_link": true
    },
    "kernelspec": {
      "name": "python3",
      "display_name": "Python 3"
    },
    "language_info": {
      "name": "python"
    }
  },
  "cells": [
    {
      "cell_type": "markdown",
      "metadata": {
        "id": "view-in-github",
        "colab_type": "text"
      },
      "source": [
        "<a href=\"https://colab.research.google.com/github/vijaykankane/B12DevopsHeroviered/blob/main/02_basic_statistics.ipynb\" target=\"_parent\"><img src=\"https://colab.research.google.com/assets/colab-badge.svg\" alt=\"Open In Colab\"/></a>"
      ]
    },
    {
      "cell_type": "code",
      "execution_count": null,
      "metadata": {
        "colab": {
          "base_uri": "https://localhost:8080/"
        },
        "id": "YFkoNeFfmpLb",
        "outputId": "18eecde0-41a9-4bc1-f0b3-b1b672f02a9a"
      },
      "outputs": [
        {
          "output_type": "stream",
          "name": "stdout",
          "text": [
            "✅ Basic Statistics for Numeric Columns:\n",
            "\n",
            "                                                   Mean        Median  \\\n",
            "ID                                         4.580302e+09  3.904930e+09   \n",
            "Sale Price                                 5.401984e+05  4.500000e+05   \n",
            "No of Bedrooms                             3.370842e+00  3.000000e+00   \n",
            "No of Bathrooms                            2.114732e+00  2.250000e+00   \n",
            "Flat Area (in Sqft)                        2.079932e+03  1.910000e+03   \n",
            "Lot Area (in Sqft)                         1.510776e+04  7.617500e+03   \n",
            "No of Floors                               1.494309e+00  1.500000e+00   \n",
            "Overall Grade                              7.623467e+00  7.000000e+00   \n",
            "Area of the House from Basement (in Sqft)  1.788344e+03  1.560000e+03   \n",
            "Basement Area (in Sqft)                    2.915090e+02  0.000000e+00   \n",
            "Age of House (in Years)                    4.699486e+01  4.300000e+01   \n",
            "Renovated Year                             8.440226e+01  0.000000e+00   \n",
            "Zipcode                                    9.807794e+04  9.806500e+04   \n",
            "Latitude                                   4.756005e+01  4.757180e+01   \n",
            "Longitude                                 -1.222139e+02 -1.222300e+02   \n",
            "Living Area after Renovation (in Sqft)     1.986539e+03  1.840000e+03   \n",
            "Lot Area after Renovation (in Sqft)        1.276846e+04  7.620000e+03   \n",
            "\n",
            "                                                   Mode       Std Dev  \\\n",
            "ID                                         7.950006e+08  2.876566e+09   \n",
            "Sale Price                                 3.500000e+05  3.673890e+05   \n",
            "No of Bedrooms                             3.000000e+00  9.300618e-01   \n",
            "No of Bathrooms                            2.500000e+00  7.701384e-01   \n",
            "Flat Area (in Sqft)                        1.300000e+03  9.184876e+02   \n",
            "Lot Area (in Sqft)                         5.000000e+03  4.142827e+04   \n",
            "No of Floors                               1.000000e+00  5.399889e-01   \n",
            "Overall Grade                              7.000000e+00  1.105439e+00   \n",
            "Area of the House from Basement (in Sqft)  1.300000e+03  8.279826e+02   \n",
            "Basement Area (in Sqft)                    0.000000e+00  4.425750e+02   \n",
            "Age of House (in Years)                    4.000000e+00  2.937341e+01   \n",
            "Renovated Year                             0.000000e+00  4.016792e+02   \n",
            "Zipcode                                    9.810300e+04  5.350542e+01   \n",
            "Latitude                                   4.753220e+01  1.385650e-01   \n",
            "Longitude                                 -1.222900e+02  1.408298e-01   \n",
            "Living Area after Renovation (in Sqft)     1.540000e+03  6.854043e+02   \n",
            "Lot Area after Renovation (in Sqft)        5.000000e+03  2.730418e+04   \n",
            "\n",
            "                                                    Min           Max  \n",
            "ID                                         1.000102e+06  9.900000e+09  \n",
            "Sale Price                                 7.500000e+04  7.700000e+06  \n",
            "No of Bedrooms                             0.000000e+00  3.300000e+01  \n",
            "No of Bathrooms                            0.000000e+00  8.000000e+00  \n",
            "Flat Area (in Sqft)                        2.900000e+02  1.354000e+04  \n",
            "Lot Area (in Sqft)                         5.200000e+02  1.651359e+06  \n",
            "No of Floors                               1.000000e+00  3.500000e+00  \n",
            "Overall Grade                              1.000000e+00  1.000000e+01  \n",
            "Area of the House from Basement (in Sqft)  2.900000e+02  9.410000e+03  \n",
            "Basement Area (in Sqft)                    0.000000e+00  4.820000e+03  \n",
            "Age of House (in Years)                    3.000000e+00  1.180000e+02  \n",
            "Renovated Year                             0.000000e+00  2.015000e+03  \n",
            "Zipcode                                    9.800100e+04  9.819900e+04  \n",
            "Latitude                                   4.715590e+01  4.777760e+01  \n",
            "Longitude                                 -1.225190e+02 -1.213150e+02  \n",
            "Living Area after Renovation (in Sqft)     3.990000e+02  6.210000e+03  \n",
            "Lot Area after Renovation (in Sqft)        6.510000e+02  8.712000e+05  \n"
          ]
        }
      ],
      "source": [
        "# 📌 Step 1: Import Libraries\n",
        "import pandas as pd\n",
        "\n",
        "# 📌 Step 2: Load dataset from GitHub\n",
        "url = \"https://raw.githubusercontent.com/vijaykankane/GenAIProject/main/HousingPrices_New.csv\"\n",
        "df = pd.read_csv(url)\n",
        "\n",
        "# 📌 Step 3: Clean column names\n",
        "df.columns = df.columns.str.strip()\n",
        "\n",
        "# 📌 Step 4: Select only numeric columns\n",
        "numeric_df = df.select_dtypes(include='number')\n",
        "\n",
        "# 📌 Step 5: Calculate basic statistics\n",
        "stats = pd.DataFrame({\n",
        "    'Mean': numeric_df.mean(),\n",
        "    'Median': numeric_df.median(),\n",
        "    'Mode': numeric_df.mode().iloc[0],\n",
        "    'Std Dev': numeric_df.std(),\n",
        "    'Min': numeric_df.min(),\n",
        "    'Max': numeric_df.max()\n",
        "})\n",
        "\n",
        "# 📌 Step 6: Display results\n",
        "print(\"✅ Basic Statistics for Numeric Columns:\\n\")\n",
        "print(stats)\n"
      ]
    }
  ]
}